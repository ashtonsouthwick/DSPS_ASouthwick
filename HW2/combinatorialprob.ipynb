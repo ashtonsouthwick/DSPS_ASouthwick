{
  "nbformat": 4,
  "nbformat_minor": 0,
  "metadata": {
    "colab": {
      "provenance": [],
      "include_colab_link": true
    },
    "kernelspec": {
      "name": "python3",
      "display_name": "Python 3"
    },
    "language_info": {
      "name": "python"
    }
  },
  "cells": [
    {
      "cell_type": "markdown",
      "metadata": {
        "id": "view-in-github",
        "colab_type": "text"
      },
      "source": [
        "<a href=\"https://colab.research.google.com/github/ashtonsouthwick/DSPS_ASouthwick/blob/main/HW2/combinatorialprob.ipynb\" target=\"_parent\"><img src=\"https://colab.research.google.com/assets/colab-badge.svg\" alt=\"Open In Colab\"/></a>"
      ]
    },
    {
      "cell_type": "markdown",
      "source": [
        "# PROBABILITY AND COMBINATORIAL MATH\n",
        "# ANSWER ALL QUESTIONS BELOW"
      ],
      "metadata": {
        "id": "oVVl2Ho8DMPP"
      }
    },
    {
      "cell_type": "code",
      "execution_count": 4,
      "metadata": {
        "id": "uLxenWwnvmQ2"
      },
      "outputs": [],
      "source": [
        "import numpy as np"
      ]
    },
    {
      "cell_type": "code",
      "source": [
        "!wget https://raw.githubusercontent.com/fedhere/DSPS_FBianco/refs/heads/main/.code/checkanswers1.py"
      ],
      "metadata": {
        "id": "YldnMu9Tv_xh",
        "outputId": "6ed333a1-6185-4b9f-9391-ff5e756bf4b8",
        "colab": {
          "base_uri": "https://localhost:8080/"
        }
      },
      "execution_count": 14,
      "outputs": [
        {
          "output_type": "stream",
          "name": "stdout",
          "text": [
            "--2025-09-09 14:41:45--  https://raw.githubusercontent.com/fedhere/DSPS_FBianco/refs/heads/main/.code/checkanswers1.py\n",
            "Resolving raw.githubusercontent.com (raw.githubusercontent.com)... 185.199.110.133, 185.199.108.133, 185.199.111.133, ...\n",
            "Connecting to raw.githubusercontent.com (raw.githubusercontent.com)|185.199.110.133|:443... connected.\n",
            "HTTP request sent, awaiting response... 200 OK\n",
            "Length: 577 [text/plain]\n",
            "Saving to: ‘checkanswers1.py’\n",
            "\n",
            "checkanswers1.py    100%[===================>]     577  --.-KB/s    in 0s      \n",
            "\n",
            "2025-09-09 14:41:46 (21.7 MB/s) - ‘checkanswers1.py’ saved [577/577]\n",
            "\n"
          ]
        }
      ]
    },
    {
      "cell_type": "code",
      "source": [
        "from checkanswers1 import * # NOTE: this is really bad practice! generally dont do from whatever import * - you risk to overwrite built in or loaded functions!"
      ],
      "metadata": {
        "id": "51ZbhBlJwD7Y"
      },
      "execution_count": 15,
      "outputs": []
    },
    {
      "cell_type": "markdown",
      "source": [
        "# Independent"
      ],
      "metadata": {
        "id": "lnXwG2X6vqQJ"
      }
    },
    {
      "cell_type": "markdown",
      "source": [
        "A and B are **indipendent** outcomes. Answer the following questions"
      ],
      "metadata": {
        "id": "pIa3AACMx17V"
      }
    },
    {
      "cell_type": "code",
      "source": [
        "P_A = 0.5\n",
        "P_B = 0.3"
      ],
      "metadata": {
        "id": "RaHOb4l3vtOB"
      },
      "execution_count": 35,
      "outputs": []
    },
    {
      "cell_type": "markdown",
      "source": [
        "**Q1: What is the intecept of P(A) and P(B) $P(A)\\cap P(B)$ (or P(A) AND P(B))**"
      ],
      "metadata": {
        "id": "k1w-aSQryEW0"
      }
    },
    {
      "cell_type": "code",
      "source": [
        "# fill in this cell\n",
        "P_A_intercept_B = 0 #disjoint, cant happen together\n",
        "P_A_intercept_B"
      ],
      "metadata": {
        "id": "p8Th4yiczTzX",
        "outputId": "cfac430f-8893-4f71-e1db-4b01415edbf2",
        "colab": {
          "base_uri": "https://localhost:8080/"
        }
      },
      "execution_count": 42,
      "outputs": [
        {
          "output_type": "execute_result",
          "data": {
            "text/plain": [
              "0"
            ]
          },
          "metadata": {},
          "execution_count": 42
        }
      ]
    },
    {
      "cell_type": "markdown",
      "source": [
        "Continue to assuming that A and B are independent.\n",
        "\n",
        "**Q2: what is the probability of getting either A OR B in a draw**"
      ],
      "metadata": {
        "id": "-G_pD66L5D-N"
      }
    },
    {
      "cell_type": "code",
      "source": [
        "# fill in this cell with an equation using no hard coded numbers but the variables P_A and P_B\n",
        "P_A_or_B = P_A + P_B # - intercept but disjoint, so intercept zero\n",
        "P_A_or_B"
      ],
      "metadata": {
        "id": "pgWW0AyOwrJx",
        "outputId": "69aff7dd-666b-4bc1-bfe5-1d38edcff37c",
        "colab": {
          "base_uri": "https://localhost:8080/"
        }
      },
      "execution_count": 43,
      "outputs": [
        {
          "output_type": "execute_result",
          "data": {
            "text/plain": [
              "0.8"
            ]
          },
          "metadata": {},
          "execution_count": 43
        }
      ]
    },
    {
      "cell_type": "markdown",
      "source": [
        "Continue to assuming that A and B are independent.\n",
        "\n",
        "**Q3: what is the probability of A AND B as the two outcomes of two independent draws, in that order**"
      ],
      "metadata": {
        "id": "0zv5M1nny-7g"
      }
    },
    {
      "cell_type": "code",
      "source": [
        "# fill in this cell with an equation using no hard coded numbers but the variables P_A and P_B\n",
        "P_A_and_B = P_A * P_B\n",
        "P_A_and_B"
      ],
      "metadata": {
        "id": "rNYaOGD3vxv3",
        "outputId": "d39bdb20-fafc-4d85-e818-4f96f4b9fb7b",
        "colab": {
          "base_uri": "https://localhost:8080/"
        }
      },
      "execution_count": 44,
      "outputs": [
        {
          "output_type": "execute_result",
          "data": {
            "text/plain": [
              "0.15"
            ]
          },
          "metadata": {},
          "execution_count": 44
        }
      ]
    },
    {
      "cell_type": "markdown",
      "source": [
        "Continue to assuming A and B are independent.\n",
        "\n",
        "**Q4: what is the $P(A|B)$ probability of A GIVEN B (i.e. probability that given that I drew B first, now I will draw A)**"
      ],
      "metadata": {
        "id": "BnV03j7_Byag"
      }
    },
    {
      "cell_type": "code",
      "source": [
        "# fill in this cell with an equation using no hard coded numbers but the variables P_A and P_B\n",
        "P_A_given_B = P_A\n",
        "P_A_given_B"
      ],
      "metadata": {
        "id": "UhQ4hcmpCLGa",
        "outputId": "bff8a78d-8235-4214-ed93-c9b364788d7e",
        "colab": {
          "base_uri": "https://localhost:8080/"
        }
      },
      "execution_count": 47,
      "outputs": [
        {
          "output_type": "execute_result",
          "data": {
            "text/plain": [
              "0.5"
            ]
          },
          "metadata": {},
          "execution_count": 47
        }
      ]
    },
    {
      "cell_type": "code",
      "source": [
        "#run this cell to see if you got the right answer\n",
        "print(\"Q1 answer\")\n",
        "check_independent_probAND(P_A_and_B)\n",
        "\n",
        "print(\"\\nQ2 answer\")\n",
        "check_independent_probOR(P_A_or_B)\n",
        "\n",
        "print(\"\\nQ3 answer\")\n",
        "check_independent_intersection(P_A_intercept_B)\n",
        "\n",
        "print(\"\\nQ4 answer\")\n",
        "check_independent_probGIVEN(P_A_given_B)"
      ],
      "metadata": {
        "id": "XUQ4Gqohv2SC",
        "outputId": "b3bbb2ef-abe4-4c61-a33a-5a4cf10f9a87",
        "colab": {
          "base_uri": "https://localhost:8080/"
        }
      },
      "execution_count": 48,
      "outputs": [
        {
          "output_type": "stream",
          "name": "stdout",
          "text": [
            "Q1 answer\n",
            "CORRECT\n",
            "\n",
            "Q2 answer\n",
            "CORRECT\n",
            "\n",
            "Q3 answer\n",
            "CORRECT\n",
            "\n",
            "Q4 answer\n",
            "CORRECT\n"
          ]
        }
      ]
    },
    {
      "cell_type": "markdown",
      "source": [
        "# Complement"
      ],
      "metadata": {
        "id": "_miZRCVj52n3"
      }
    },
    {
      "cell_type": "markdown",
      "source": [
        "if AA is the complement of A (normally notiation is $\\bar{A}$)\n",
        "\n",
        "**Q5: what is the probability of A OR AA?**"
      ],
      "metadata": {
        "id": "7nSOE2r-xHKZ"
      }
    },
    {
      "cell_type": "code",
      "source": [
        "P_A_or_AA = P_A + (1 - P_A) # A + compliment of A\n",
        "P_A_or_AA"
      ],
      "metadata": {
        "id": "1QZYBWM-wzoX",
        "outputId": "329d5eae-3a29-4186-cecf-da1aaafd5ec9",
        "colab": {
          "base_uri": "https://localhost:8080/"
        }
      },
      "execution_count": 28,
      "outputs": [
        {
          "output_type": "execute_result",
          "data": {
            "text/plain": [
              "1.0"
            ]
          },
          "metadata": {},
          "execution_count": 28
        }
      ]
    },
    {
      "cell_type": "markdown",
      "source": [
        "**Q5: what is the probability of A AND AA?**"
      ],
      "metadata": {
        "id": "vA8o4WBADrnS"
      }
    },
    {
      "cell_type": "code",
      "source": [
        "P_A_and_AA = 0 # an event and its compliment cannot occur together\n",
        "P_A_and_AA"
      ],
      "metadata": {
        "id": "hv3h9jkQDq9K",
        "outputId": "e621a2f9-fc41-4e54-8101-a5eb49dd29f4",
        "colab": {
          "base_uri": "https://localhost:8080/"
        }
      },
      "execution_count": 31,
      "outputs": [
        {
          "output_type": "execute_result",
          "data": {
            "text/plain": [
              "0"
            ]
          },
          "metadata": {},
          "execution_count": 31
        }
      ]
    },
    {
      "cell_type": "code",
      "source": [
        "# run this cell\n",
        "check_complement_probOR(P_A_or_AA)\n",
        "check_complement_probAND(P_A_and_AA)"
      ],
      "metadata": {
        "collapsed": true,
        "id": "xWjxJyx8xjoJ",
        "outputId": "6c7ce57d-0f0c-4cc2-c662-3c5b872ce2bf",
        "colab": {
          "base_uri": "https://localhost:8080/"
        }
      },
      "execution_count": 49,
      "outputs": [
        {
          "output_type": "stream",
          "name": "stdout",
          "text": [
            "CORRECT\n",
            "CORRECT\n"
          ]
        }
      ]
    },
    {
      "cell_type": "code",
      "source": [],
      "metadata": {
        "id": "gYlsyo0ERsxd"
      },
      "execution_count": null,
      "outputs": []
    }
  ]
}